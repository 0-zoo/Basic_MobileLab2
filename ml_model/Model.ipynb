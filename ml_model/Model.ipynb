{
  "cells": [
    {
      "cell_type": "markdown",
      "metadata": {
        "id": "USaorKo7DP9B"
      },
      "source": [
        "# Base"
      ]
    },
    {
      "cell_type": "code",
      "source": [
        "from google.colab import drive\n",
        "drive.mount('/content/drive')"
      ],
      "metadata": {
        "colab": {
          "base_uri": "https://localhost:8080/"
        },
        "id": "1WTlpN52PNYz",
        "outputId": "b700d620-4d51-4986-e2bd-ffb70b27f138"
      },
      "execution_count": null,
      "outputs": [
        {
          "output_type": "stream",
          "name": "stdout",
          "text": [
            "Drive already mounted at /content/drive; to attempt to forcibly remount, call drive.mount(\"/content/drive\", force_remount=True).\n"
          ]
        }
      ]
    },
    {
      "cell_type": "code",
      "execution_count": null,
      "metadata": {
        "id": "gr2Cj9rxQ_NT"
      },
      "outputs": [],
      "source": [
        "import os\n",
        "import torch\n",
        "import torch.nn as nn\n",
        "import torch.optim as optim\n",
        "from torch.utils.data import Dataset\n",
        "import matplotlib.pyplot as plt \n",
        "import numpy as np\n",
        "import random\n",
        "import json\n",
        "import seaborn as sns\n",
        "from tqdm import tqdm"
      ]
    },
    {
      "cell_type": "code",
      "execution_count": null,
      "metadata": {
        "id": "pEfHdc2MHV49"
      },
      "outputs": [],
      "source": [
        "DIR_DATA=\"/content/drive/MyDrive/BasicMobileLab/content/data/Dataset/\" \n",
        "DIR_NET_SAVING=\"/content/drive/MyDrive/BasicMobileLab/content/data/net/\"\n",
        "DIR_RESULTS=\"/content/drive/MyDrive/BasicMobileLab/content/data/\""
      ]
    },
    {
      "cell_type": "code",
      "execution_count": null,
      "metadata": {
        "colab": {
          "base_uri": "https://localhost:8080/"
        },
        "id": "9Qy3Go4cE7EZ",
        "outputId": "cfaa3db5-df22-4310-fb16-a2db5ce164d6"
      },
      "outputs": [
        {
          "output_type": "execute_result",
          "data": {
            "text/plain": [
              "<torch._C.Generator at 0x7f308063e3b0>"
            ]
          },
          "metadata": {},
          "execution_count": 22
        }
      ],
      "source": [
        "manualSeed=1\n",
        "torch.manual_seed(manualSeed)\n",
        "random.seed(manualSeed)\n",
        "np.random.seed(manualSeed)\n",
        "g = torch.Generator()\n",
        "g.manual_seed(manualSeed)"
      ]
    },
    {
      "cell_type": "markdown",
      "metadata": {
        "id": "o4lE6XdnkRCt"
      },
      "source": [
        "# Functions"
      ]
    },
    {
      "cell_type": "code",
      "execution_count": null,
      "metadata": {
        "id": "emSxBk7ikS5m"
      },
      "outputs": [],
      "source": [
        "def suppr(dic):\n",
        "  \"\"\" \n",
        "    결측치 제거\n",
        "  \"\"\"\n",
        "  bornemax=np.quantile(dic[\"features\"],0.99,axis=0) # 데이터 분할\n",
        "  bornemin=np.quantile(dic[\"features\"],0.01,axis=0) # 데이터 분할\n",
        "  indicesmauvais=np.where(np.sum(np.add(bornemin>np.array(dic[\"features\"]),np.array(dic[\"features\"])>bornemax),axis=1)>0)[0]\n",
        "  k=0\n",
        "\n",
        "  for i in indicesmauvais:\n",
        "    del dic[\"features\"][i-k]\n",
        "    del dic[\"label\"][i-k]\n",
        "    k+=1\n",
        "\n",
        "  return dic\n",
        "\n",
        "def extract_ds_from_dict(data):\n",
        "  \"\"\" \n",
        "    각 state에서 irrelavant extract를 삭제하고 딕셔너리로 반환\n",
        "  \"\"\"\n",
        "  Letat=[]\n",
        "\n",
        "  for i in range(0,4):\n",
        "    dictio={}\n",
        "    features=[data[\"features\"][j] for j in np.where(np.array(data[\"label\"])==i+1)[0]] \n",
        "    label=[data[\"label\"][j] for j in np.where(np.array(data[\"label\"])==i+1)[0]]\n",
        "    dictio[\"features\"]=features\n",
        "    dictio[\"label\"]=label\n",
        "    Letat.append(dictio.copy())\n",
        "\n",
        "  neutral=Letat[0] # neutral = 0\n",
        "  stress=Letat[1] # stress = 1\n",
        "  amuse=Letat[2] # amusement = 2\n",
        "  medi=Letat[3] # meditation = 3\n",
        "  neutral=suppr(neutral)\n",
        "  stress=suppr(stress)\n",
        "  amuse=suppr(amuse)\n",
        "  medi=suppr(medi)\n",
        "  features=[]\n",
        "  label=[]\n",
        "  dict_id={}\n",
        "\n",
        "  for m in range(0,4):\n",
        "    dictio=Letat[m]\n",
        "    features+=[x for x in dictio[\"features\"]] \n",
        "    label+=[x for x in dictio[\"label\"]]\n",
        "\n",
        "  dict_id[\"features\"]=features\n",
        "  dict_id[\"label\"]=label\n",
        "  return dict_id.copy()\n",
        "\n",
        "def conf_mat(net,datal,trsh):\n",
        "  \"\"\" \n",
        "    dataloader에 따라 2개의 confusion matrix와 상태 예측을 위한 threshold  계산(임계치 이상의 subject는 스트레스 상태로 판단)\n",
        "  2x2 confusion matrix : Stress and No stress as label for line and column\n",
        "  3x4 confusion matrix : {Total ; Stress ; No stress} as label for the lines\n",
        "                         {neutralal ; Stress ; Amusement; Meditation} as label for the columns\n",
        "  \"\"\"\n",
        "  x=datal[0].float().to(device)\n",
        "  y=net(x).view(-1)\n",
        "  pred=(y>trsh).int()\n",
        "  label=datal[1].float().to(device).view(-1).int()\n",
        "  num=datal[2].float().to(device).int()\n",
        "  comp=torch.eq(label,pred).int()\n",
        "  mat_label=np.zeros((2,4))\n",
        "  mat_nolbl=np.zeros((2,2))\n",
        "\n",
        "  for i in range(0,4):\n",
        "    tens=torch.where(num==i+1,1,0)\n",
        "    numtot=torch.sum(tens).item()\n",
        "    num_G=torch.sum(torch.where(torch.mul(tens,comp)==1,1,0)).item()\n",
        "\n",
        "    if i ==1:\n",
        "      mat_nolbl[0,0]+=num_G\n",
        "      mat_nolbl[1,0]+=numtot-num_G\n",
        "      mat_label[0,i]=num_G\n",
        "      mat_label[1,i]=numtot-num_G\n",
        "\n",
        "    else:\n",
        "      mat_nolbl[1,1]+=num_G\n",
        "      mat_nolbl[0,1]+=numtot-num_G\n",
        "      mat_label[1,i]=num_G\n",
        "      mat_label[0,i]=numtot-num_G\n",
        "\n",
        "\n",
        "  return mat_label,mat_nolbl\n",
        "\n",
        "def fusion_dic(list_dic):\n",
        "  \"\"\"\n",
        "    리스트로부터 딕셔너리(dataset) 병합 (각 딕셔너리는 subject의 데이터셋을 나타냄)\n",
        "  \"\"\"\n",
        "  features=[]\n",
        "  label=[]\n",
        "  dic_f={}\n",
        "\n",
        "  for dic in list_dic:\n",
        "    features+=dic[\"features\"]\n",
        "    label+=dic[\"label\"]\n",
        "\n",
        "  dic_f[\"features\"]=features\n",
        "  dic_f[\"label\"]=label\n",
        "  return dic_f\n",
        "\n",
        "def proportion(dic, indice, prop):\n",
        "  \"\"\" \n",
        "    균형 잡힌 training을 위해 균형 잡힌 dataset 반환(reduced by the factor prop)\n",
        "  \"\"\"\n",
        "  tot=len(indice)\n",
        "  features=[dic[\"features\"][j] for j in indice[::int(np.ceil(tot/prop))]]\n",
        "  label=[dic[\"label\"][j] for j in indice[::int(np.ceil(tot/prop))]]\n",
        "  return features,label\n",
        "\n",
        "def eq_dic(dic):\n",
        "  \"\"\" \n",
        "    dictionnary of a subject에서 균형 잡힌 dataset 반환(same ammount of data for neutralal/stress/amusement/relax condition)\n",
        "  \"\"\"\n",
        "  indice_neutral=np.where(np.array(dic[\"label\"])==1)[0]\n",
        "  indice_stress=np.where(np.array(dic[\"label\"])==2)[0]\n",
        "  indice_amu=np.where(np.array(dic[\"label\"])==3)[0]\n",
        "  indice_med=np.where(np.array(dic[\"label\"])==4)[0]\n",
        "  nbr_neutral=len(indice_neutral)\n",
        "  nbr_stress=len(indice_stress)\n",
        "  nbr_amu=len(indice_amu)\n",
        "  nbr_med=len(indice_med)\n",
        "  prop=min([3*nbr_neutral,nbr_stress,3*nbr_amu,3*nbr_med])\n",
        "  prop_stress=prop\n",
        "  prop_neutral=int(0.333*prop)\n",
        "  prop_amu=int(0.333*prop)\n",
        "  prop_med=int(0.333*prop)\n",
        "  features=[]\n",
        "  label=[]\n",
        "  dic_f={}\n",
        "  tempf,templ=proportion(dic,indice_neutral,prop_neutral)\n",
        "  features+=tempf\n",
        "  label+=templ\n",
        "  tempf,templ=proportion(dic,indice_stress,prop_stress)\n",
        "  features+=tempf\n",
        "  label+=templ\n",
        "  tempf,templ=proportion(dic,indice_amu,prop_amu)\n",
        "  features+=tempf\n",
        "  label+=templ\n",
        "  tempf,templ=proportion(dic,indice_med,prop_med)\n",
        "  features+=tempf\n",
        "  label+=templ\n",
        "  dic_f[\"features\"]=features\n",
        "  dic_f[\"label\"]=label\n",
        "  \n",
        "  return dic_f"
      ]
    },
    {
      "cell_type": "markdown",
      "metadata": {
        "id": "88CdoUVQrpaA"
      },
      "source": [
        "# DS creation kfold"
      ]
    },
    {
      "cell_type": "code",
      "execution_count": null,
      "metadata": {
        "id": "UNrIGSslSwbF"
      },
      "outputs": [],
      "source": [
        "class ds_wesad(Dataset):\n",
        "    \"\"\"\n",
        "    0 neutral\n",
        "    1 stress\n",
        "    2 amusement\n",
        "    3 relax\n",
        "    \"\"\"\n",
        "    def __init__(self, dic):\n",
        "        self.samples = []\n",
        "        self.dic=dic\n",
        "        for i in range(0,len(dic[\"label\"])):\n",
        "            num=dic[\"label\"][i]\n",
        "            stress=num==2\n",
        "            x=np.array(dic[\"features\"][i])\n",
        "            self.samples.append((x,int(stress),num))\n",
        "\n",
        "    def __len__(self):\n",
        "        return len(self.samples)\n",
        "\n",
        "    def __getitem__(self, id):\n",
        "        return self.samples[id]"
      ]
    },
    {
      "cell_type": "code",
      "execution_count": null,
      "metadata": {
        "colab": {
          "base_uri": "https://localhost:8080/"
        },
        "id": "pXi9BUzeMZ0I",
        "outputId": "aa01e899-1952-45d5-c059-8ea683535e31"
      },
      "outputs": [
        {
          "output_type": "stream",
          "name": "stdout",
          "text": [
            "10\n",
            "20\n",
            "30\n",
            "40\n",
            "50\n",
            "60\n",
            "70\n",
            "80\n",
            "90\n"
          ]
        }
      ],
      "source": [
        "\"\"\"\n",
        "cross validation 프로세스를 처리하고 교차 검증을 위한 여러 training / validation data dictionary 생성\n",
        "\"\"\"\n",
        "\n",
        "name_list= ['WESADECG_S2.json', 'WESADECG_S3.json', 'WESADECG_S4.json', 'WESADECG_S5.json', 'WESADECG_S6.json', 'WESADECG_S7.json',\n",
        " 'WESADECG_S8.json', 'WESADECG_S9.json', 'WESADECG_S10.json', 'WESADECG_S11.json', 'WESADECG_S13.json', 'WESADECG_S14.json',\n",
        " 'WESADECG_S15.json', 'WESADECG_S16.json']\n",
        "\n",
        "#assert (len(name_list)==14)  ONE Subject for testing S17\n",
        "list_dic_ds=[]\n",
        "cntr=0\n",
        "\n",
        "for k in range(0,14):   # 0~14\n",
        "  for j in range(k,14):\n",
        "\n",
        "    if k!=j :  \n",
        "      f1 = open(DIR_DATA+name_list[k])\n",
        "      f2 = open(DIR_DATA+name_list[j])\n",
        "      data_1 = json.load(f1)\n",
        "      data_2 = json.load(f2)\n",
        "      dic_3=fusion_dic([data_1,data_2])   # 2명의 데이터로 데이터셋 생성\n",
        "      dic_v=extract_ds_from_dict(dic_3)   # 2명의 데이터로부터 validation dictionnary 생성\n",
        "      L=[]\n",
        "\n",
        "      for i in range(0,len(name_list)):   # subject 개수만큼 반복\n",
        "        if (i!=k and i!=j):\n",
        "          f=open(DIR_DATA+name_list[i])   # k, j도 아닌 subject\n",
        "          data = json.load(f)\n",
        "          dic=eq_dic(data)\n",
        "          L.append(dic) # L에 붙임\n",
        "\n",
        "      assert (len(L)==12)\n",
        "      dic_4=fusion_dic(L) \n",
        "      dic_t=extract_ds_from_dict(dic_4)\n",
        "      list_dic_ds.append([dic_t,dic_v,k,j]) \n",
        "      # 12명의 데이터로부터 training dictionnary 생성. 모든 데이터는 balanced 되었고 결측치 제거됨.\n",
        "      cntr+=1\n",
        "      if cntr%10==0:\n",
        "        print(cntr)"
      ]
    },
    {
      "cell_type": "code",
      "execution_count": null,
      "metadata": {
        "id": "OlKq-kz7ULOY"
      },
      "outputs": [],
      "source": [
        "\"\"\" \n",
        "  각 데이터 dictionary에 대해 multiple dataset 생성(첫 번째는 training dataset, 두 번째는 validation dataset)\n",
        "\"\"\"\n",
        "list_ds=[]\n",
        "cntr=0\n",
        "for sample in list_dic_ds:\n",
        "  list_ds.append([ds_wesad(sample[0]),ds_wesad(sample[1]),sample[2],sample[3]]) #[training dataset; validation dataset(from subjects k and j); k; j]\n",
        "  cntr+=1"
      ]
    },
    {
      "cell_type": "markdown",
      "metadata": {
        "id": "VZVLgHmjVhGa"
      },
      "source": [
        "# Model"
      ]
    },
    {
      "cell_type": "code",
      "execution_count": null,
      "metadata": {
        "id": "PN7Ya-GyVgDe"
      },
      "outputs": [],
      "source": [
        "from torch.nn.modules.activation import LeakyReLU\n",
        "\"\"\" DNN Model \"\"\"\n",
        "\n",
        "def init_weight(m):\n",
        "    \"\"\"Initialization of the weights\"\"\"\n",
        "    if isinstance(m,nn.Linear):\n",
        "        nn.init.xavier_uniform_(m.weight)\n",
        "        m.bias.data.fill_(0.01)\n",
        "    if isinstance(m, nn.BatchNorm1d):\n",
        "        m.weight.data.fill_(1)\n",
        "        m.bias.data.zero_() \n",
        "\n",
        "class ClassifierECG(nn.Module):\n",
        "    def __init__(self, ngpu):\n",
        "        super(ClassifierECG, self).__init__()\n",
        "        self.ngpu = ngpu\n",
        "        self.nnECG = nn.Sequential(\n",
        "            nn.Linear(12,128,bias=True),\n",
        "            nn.BatchNorm1d(128),\n",
        "            nn.Dropout(0.5),\n",
        "            nn.LeakyReLU(0.2),\n",
        "            nn.Linear(128,64,bias=True),\n",
        "            nn.BatchNorm1d(64),\n",
        "            nn.Dropout(0.5),\n",
        "            nn.LeakyReLU(0.2),\n",
        "            nn.Linear(64,16,bias=True),\n",
        "            nn.BatchNorm1d(16),\n",
        "            nn.Dropout(0.5),\n",
        "            nn.LeakyReLU(0.2),\n",
        "            nn.Linear(16,4,bias=True),\n",
        "            nn.BatchNorm1d(4),\n",
        "            nn.Dropout(0.5),\n",
        "            nn.LeakyReLU(0.2),\n",
        "            nn.Linear(4,1,bias=True),\n",
        "            nn.Sigmoid()\n",
        "        )\n",
        "        self.nnECG.apply(init_weight)\n",
        "\n",
        "    def forward(self, input):\n",
        "        return self.nnECG(input)"
      ]
    },
    {
      "cell_type": "markdown",
      "metadata": {
        "id": "B6BCMV8WQmJt"
      },
      "source": [
        "# Training"
      ]
    },
    {
      "cell_type": "code",
      "execution_count": null,
      "metadata": {
        "id": "HvpAkUbPWJNi"
      },
      "outputs": [],
      "source": [
        "def training(net,dataloader_t,dataloader_v,num_epochs,j,k):\n",
        "  \"\"\" \n",
        "    Dataset에서 BCELoss를 사용하여 train한 후 \n",
        "    각 epoch에 대해 net weights가 저장되고, mean error가 계산되어 훈련 및 Valdiation 데이터 세트에 대한 손실을 플롯한다.\n",
        "  \"\"\" \n",
        "  Loss = []\n",
        "  Lossv= []\n",
        "  for epoch in range(num_epochs):\n",
        "      L_t=[]\n",
        "      L_v=[]\n",
        "      for i, dataj in enumerate(dataloader_t, 0):\n",
        "          net.zero_grad()\n",
        "          x=dataj[0].float().to(device)\n",
        "          yhat=dataj[1].float().to(device)\n",
        "          yhat=yhat.view(-1,1)\n",
        "          y=net(x)\n",
        "          err_t=nn.BCELoss()(y.float(),yhat.float())\n",
        "          err_t.backward()\n",
        "          optimizer.step()\n",
        "          L_t.append(err_t.item())\n",
        "      for i, dataj in enumerate(dataloader_v, 0):\n",
        "        net.eval()     \n",
        "        x=dataj[0].float().to(device)\n",
        "        yhat=dataj[1].float().to(device)\n",
        "        yhat=yhat.view(-1,1)\n",
        "        y=net(x)\n",
        "        err_v=nn.BCELoss()(y.float(),yhat.float())\n",
        "        L_v.append(err_v.item())\n",
        "      err=np.mean(L_t)\n",
        "      errv=np.mean(L_v)\n",
        "      Loss.append(err)\n",
        "      Lossv.append(errv)\n",
        "      torch.save(net.state_dict(), DIR_NET_SAVING+\"net_\"+str(j)+\"_\"+str(k)+\"_epoch_\"+str(epoch)+\".pth\")\n",
        "  return [Lossv,np.argmin(Lossv)]"
      ]
    },
    {
      "cell_type": "code",
      "execution_count": null,
      "metadata": {
        "colab": {
          "base_uri": "https://localhost:8080/"
        },
        "id": "tKLXZEHUZ5Jd",
        "outputId": "6017283f-bfd3-4873-bb3f-31fe42c21de9"
      },
      "outputs": [
        {
          "output_type": "stream",
          "name": "stderr",
          "text": [
            "100%|██████████| 91/91 [1:35:00<00:00, 62.64s/it]\n"
          ]
        }
      ],
      "source": [
        "def seed_worker(worker_id):\n",
        "    worker_seed = torch.initial_seed() % 2**32\n",
        "    np.random.seed(worker_seed)\n",
        "    random.seed(worker_seed)\n",
        "\n",
        "num_workers = 2\n",
        "batch_size = 32\n",
        "ngpu = 1\n",
        "device = torch.device(\"cuda:0\" if (torch.cuda.is_available() and ngpu > 0) else \"cpu\")  \n",
        "\n",
        "L=[]    \n",
        "cntr=0\n",
        "\n",
        "for ds in tqdm(list_ds):\n",
        "  net= ClassifierECG(ngpu).to(device)\n",
        "  lr=0.0001\n",
        "  beta1=0.9\n",
        "  optimizer = optim.Adam(net.parameters(), lr=lr, betas=(beta1, 0.999))\n",
        "  dataset_t=ds[0]\n",
        "  dataset_v=ds[1]\n",
        "  k=ds[2]\n",
        "  j=ds[3]\n",
        "  dataloader_t = torch.utils.data.DataLoader(dataset_t,batch_size=batch_size,shuffle=True,num_workers=num_workers,worker_init_fn=seed_worker,generator=g, drop_last=True)\n",
        "  dataloader_v = torch.utils.data.DataLoader(dataset_v,batch_size=batch_size,shuffle=True,num_workers=num_workers,worker_init_fn=seed_worker,generator=g, drop_last=True)\n",
        "  L.append(training(net,dataloader_t,dataloader_v,15,j,k))"
      ]
    },
    {
      "cell_type": "code",
      "source": [
        "import dill"
      ],
      "metadata": {
        "id": "aJTqq8bgBgir"
      },
      "execution_count": null,
      "outputs": []
    },
    {
      "cell_type": "code",
      "source": [
        "with open('/content/drive/MyDrive/BasicMobileLab/content/data/model/ECG_stressdetector_model.pkl','wb') as fw:\n",
        "    dill.dump(ClassifierECG, fw)"
      ],
      "metadata": {
        "id": "vlf9rbDu3Swc"
      },
      "execution_count": null,
      "outputs": []
    },
    {
      "cell_type": "markdown",
      "metadata": {
        "id": "L_av_cuRpqJJ"
      },
      "source": [
        "# Save Results"
      ]
    },
    {
      "cell_type": "code",
      "execution_count": null,
      "metadata": {
        "id": "NxPY4KRsV5TY"
      },
      "outputs": [],
      "source": [
        "class NpEncoder(json.JSONEncoder):\n",
        "    def default(self, obj):\n",
        "        if isinstance(obj, np.integer):\n",
        "            return int(obj)\n",
        "        if isinstance(obj, np.floating):\n",
        "            return float(obj)\n",
        "        if isinstance(obj, np.ndarray):\n",
        "            return obj.tolist()\n",
        "        return super(NpEncoder, self).default(obj)"
      ]
    },
    {
      "cell_type": "code",
      "execution_count": null,
      "metadata": {
        "id": "cgDqQSg8GoBW"
      },
      "outputs": [],
      "source": [
        "with open(DIR_RESULTS+\"results.json\",\"w\") as file:\n",
        "    json.dump(L,file,cls=NpEncoder)"
      ]
    },
    {
      "cell_type": "markdown",
      "metadata": {
        "id": "WWrbjN7MQiIi"
      },
      "source": [
        "# Load Results"
      ]
    },
    {
      "cell_type": "code",
      "execution_count": null,
      "metadata": {
        "id": "MIxyw5dLWyrg"
      },
      "outputs": [],
      "source": [
        "with open(DIR_RESULTS+\"results.json\",\"r\") as file:\n",
        "    L=json.load(file)"
      ]
    },
    {
      "cell_type": "code",
      "execution_count": null,
      "metadata": {
        "id": "f51cKjNarS8r"
      },
      "outputs": [],
      "source": [
        "def seed_worker(worker_id):\n",
        "    worker_seed = torch.initial_seed() % 2**32\n",
        "    np.random.seed(worker_seed)\n",
        "    random.seed(worker_seed)\n",
        "num_workers = 2\n",
        "batch_size = 32\n",
        "ngpu = 1\n",
        "device = torch.device(\"cuda:0\" if (torch.cuda.is_available() and ngpu > 0) else \"cpu\")  "
      ]
    },
    {
      "cell_type": "code",
      "execution_count": null,
      "metadata": {
        "colab": {
          "base_uri": "https://localhost:8080/",
          "height": 248
        },
        "id": "syMnHy0KQiIx",
        "outputId": "eb1da960-c9ae-4a5a-b9d4-a50b21715053"
      },
      "outputs": [
        {
          "output_type": "error",
          "ename": "NameError",
          "evalue": "ignored",
          "traceback": [
            "\u001b[0;31m---------------------------------------------------------------------------\u001b[0m",
            "\u001b[0;31mNameError\u001b[0m                                 Traceback (most recent call last)",
            "\u001b[0;32m<ipython-input-1-afe545f842b4>\u001b[0m in \u001b[0;36m<module>\u001b[0;34m\u001b[0m\n\u001b[1;32m      8\u001b[0m \"\"\"\n\u001b[1;32m      9\u001b[0m \u001b[0;34m\u001b[0m\u001b[0m\n\u001b[0;32m---> 10\u001b[0;31m \u001b[0mconfusionlabelmean\u001b[0m\u001b[0;34m=\u001b[0m\u001b[0mnp\u001b[0m\u001b[0;34m.\u001b[0m\u001b[0mzeros\u001b[0m\u001b[0;34m(\u001b[0m\u001b[0;34m(\u001b[0m\u001b[0;36m2\u001b[0m\u001b[0;34m,\u001b[0m\u001b[0;36m4\u001b[0m\u001b[0;34m)\u001b[0m\u001b[0;34m)\u001b[0m\u001b[0;34m\u001b[0m\u001b[0;34m\u001b[0m\u001b[0m\n\u001b[0m\u001b[1;32m     11\u001b[0m \u001b[0mconfusionmean\u001b[0m\u001b[0;34m=\u001b[0m\u001b[0mnp\u001b[0m\u001b[0;34m.\u001b[0m\u001b[0mzeros\u001b[0m\u001b[0;34m(\u001b[0m\u001b[0;34m(\u001b[0m\u001b[0;36m2\u001b[0m\u001b[0;34m,\u001b[0m\u001b[0;36m2\u001b[0m\u001b[0;34m)\u001b[0m\u001b[0;34m)\u001b[0m\u001b[0;34m\u001b[0m\u001b[0;34m\u001b[0m\u001b[0m\n\u001b[1;32m     12\u001b[0m \u001b[0macc_list\u001b[0m\u001b[0;34m=\u001b[0m\u001b[0;34m[\u001b[0m\u001b[0;34m]\u001b[0m\u001b[0;34m\u001b[0m\u001b[0;34m\u001b[0m\u001b[0m\n",
            "\u001b[0;31mNameError\u001b[0m: name 'np' is not defined"
          ]
        }
      ],
      "source": [
        "\"\"\"\n",
        "혼동행렬 계산\n",
        "This cell compute the confusion matrixes (one with no label and one with label) with the best model of each fold (91 folds)\n",
        "=> (prediction of the network as line label and true emotional state as column label)\n",
        "The ploted matrixes are the mean+/-std of all the confusion matrixes (all folds)\n",
        "\n",
        "This cell also compute the accuracy, precision, recall and F1 score of each fold model and stores these metrics in a list\n",
        "\"\"\"\n",
        "\n",
        "confusionlabelmean=np.zeros((2,4))\n",
        "confusionmean=np.zeros((2,2))\n",
        "acc_list=[]\n",
        "prec_list=[]\n",
        "recall_list=[]\n",
        "f1_list=[]\n",
        "confusion_label_list=[]\n",
        "confusion_list=[]\n",
        "\n",
        "for n in range(0,len(L)):\n",
        "  if n%10==0:\n",
        "    print(n)\n",
        "  k=list_ds[n][2]\n",
        "  j=list_ds[n][3]\n",
        "  dataset_t=list_ds[n][0]\n",
        "  dataset_v=list_ds[n][1]\n",
        "  epch=np.argmin(L[n][0])\n",
        "  net= ClassifierECG(ngpu).to(device)\n",
        "  lr=0.0001\n",
        "  beta1=0.9\n",
        "  optimizer = optim.Adam(net.parameters(), lr=lr, betas=(beta1, 0.999))\n",
        "  net.load_state_dict(torch.load(DIR_NET_SAVING+\"net_\"+str(j)+\"_\"+str(k)+\"_epoch_\"+str(epch)+\".pth\"))\n",
        "  dataloader_t = torch.utils.data.DataLoader(dataset_t,batch_size=batch_size,shuffle=True,num_workers=num_workers,worker_init_fn=seed_worker,generator=g, drop_last=True)\n",
        "  dataloader_v = torch.utils.data.DataLoader(dataset_v,batch_size=batch_size,shuffle=True,num_workers=num_workers,worker_init_fn=seed_worker,generator=g, drop_last=True)\n",
        "  trsh=0.5\n",
        "  net.eval()\n",
        "  confusionlabel=np.zeros((2,4))\n",
        "  confusion=np.zeros((2,2))\n",
        "  length_dsv=0\n",
        "  for i, datal in enumerate(dataloader_v, 0):\n",
        "        confusionlabelt,confusiont=conf_mat(net,datal,trsh)\n",
        "        confusion+=confusiont\n",
        "        confusionlabel+=confusionlabelt \n",
        "        length_dsv+=batch_size\n",
        "\n",
        "  TP=confusion[0,0]\n",
        "  TN=confusion[1,1]\n",
        "  FN=confusion[1,0]\n",
        "  FP=confusion[0,1]\n",
        "  acc=(TP+TN)/(TP+FP+FN+TN)\n",
        "  precision=TP/(TP+FP)\n",
        "  recall=TP/(TP+FN)\n",
        "  F1score=(2*recall*precision)/(recall+precision)\n",
        "  acc_list.append(acc)\n",
        "  prec_list.append(precision)\n",
        "  recall_list.append(recall)\n",
        "  f1_list.append(F1score)\n",
        "  confusion_label_list.append(100*confusionlabel/length_dsv)\n",
        "  confusion_list.append(100*confusion/length_dsv)\n",
        "\n",
        "\n",
        "confusionmean=np.round(np.mean(confusion_list,axis=0),3)\n",
        "confusionlabelmean=np.round(np.mean(confusion_label_list,axis=0),3)\n",
        "confusionstd=np.round(np.std(confusion_list,axis=0),3)\n",
        "confusionlabelstd=np.round(np.std(confusion_label_list,axis=0),3)\n",
        "annot_confusion=np.array([str(a)+\"+/-\"+str(b) for a,b in zip(confusionmean.reshape(-1).tolist(),confusionstd.reshape(-1).tolist())]).reshape(confusionmean.shape)\n",
        "annot_confusion_label=np.array([str(a)+\"+/-\"+str(b) for a,b in zip(confusionlabelmean.reshape(-1).tolist(),confusionlabelstd.reshape(-1).tolist())]).reshape(confusionlabelmean.shape)\n",
        "x_axis_confl = ['neutral','stress','amusement','meditation'] # labels for x-axis\n",
        "y_axis_confl = ['stress','no stress'] # labels for y-axis\n",
        "x_axis_conf = ['stress','no stress']\n",
        "y_axis_conf = ['stress','no stress']\n",
        "sns.set(rc={\"figure.figsize\":(15, 5)})\n",
        "fig, axs = plt.subplots(ncols=2,figsize=(33,9))\n",
        "sns.heatmap(confusionmean.astype('int32'), xticklabels=x_axis_conf, yticklabels=y_axis_conf,annot=annot_confusion,ax=axs[0],fmt = '')\n",
        "axs[0].set_xlabel('Ground Truth')\n",
        "axs[0].set_ylabel('Prediction')\n",
        "axs[0].title.set_text('Confusion matrix label : Stress/No Stress (population in %)')\n",
        "sns.heatmap(confusionlabelmean.astype('int32'), xticklabels=x_axis_confl, yticklabels=y_axis_confl, annot=annot_confusion_label,ax=axs[1],fmt = '')\n",
        "axs[1].set_xlabel('Ground Truth')\n",
        "axs[1].set_ylabel('Prediction')\n",
        "axs[1].title.set_text('Confusion matrix label : emotionnal state (population in %)')"
      ]
    },
    {
      "cell_type": "markdown",
      "metadata": {
        "id": "rpW2bsU0o273"
      },
      "source": [
        "# Metrics :"
      ]
    },
    {
      "cell_type": "markdown",
      "metadata": {
        "id": "Q9a8yRKso5F_"
      },
      "source": [
        "The 4 following figures are the distribution of accuracy, precision, recall and f1 score of all best models (for each fold)"
      ]
    },
    {
      "cell_type": "code",
      "execution_count": null,
      "metadata": {
        "id": "jqNCjrMme7x6",
        "colab": {
          "base_uri": "https://localhost:8080/",
          "height": 355
        },
        "outputId": "0d6f1dad-028a-4331-ba31-83aa656659ac"
      },
      "outputs": [
        {
          "output_type": "display_data",
          "data": {
            "text/plain": [
              "<Figure size 1080x360 with 1 Axes>"
            ],
            "image/png": "[encoded data removed]"
          },
          "metadata": {}
        }
      ],
      "source": [
        "mes=acc_list\n",
        "plt.hist(mes,bins=20)\n",
        "plt.title('Accuracy of all best models')\n",
        "plt.xlabel('Accuracy') \n",
        "plt.ylabel('Number of models')\n",
        "txtm=\"mean: \" +str(round(np.mean(mes),3))\n",
        "txtstd=\"std: \" +str(round(np.std(mes),3))\n",
        "plt.text(0.75, 12, txtm)\n",
        "plt.text(0.75, 11, txtstd)\n",
        "plt.show()"
      ]
    },
    {
      "cell_type": "code",
      "execution_count": null,
      "metadata": {
        "id": "_bg7zcfmbKcc",
        "colab": {
          "base_uri": "https://localhost:8080/",
          "height": 355
        },
        "outputId": "4d3b0016-883c-4b7a-97cd-057280e68268"
      },
      "outputs": [
        {
          "output_type": "display_data",
          "data": {
            "text/plain": [
              "<Figure size 1080x360 with 1 Axes>"
            ],
            "image/png": "[encoded data removed]"
          },
          "metadata": {}
        }
      ],
      "source": [
        "mes=prec_list\n",
        "plt.hist(mes,bins=20)\n",
        "plt.title('Precision of all best models')\n",
        "plt.xlabel('Precision') \n",
        "plt.ylabel('Number of models')\n",
        "txtm=\"mean: \" +str(round(np.mean(mes),3))\n",
        "txtstd=\"std: \" +str(round(np.std(mes),3))\n",
        "plt.text(0.35, 13, txtm)\n",
        "plt.text(0.35, 12, txtstd)\n",
        "plt.show()"
      ]
    },
    {
      "cell_type": "code",
      "execution_count": null,
      "metadata": {
        "id": "cBEjjMt_fcJ-",
        "colab": {
          "base_uri": "https://localhost:8080/",
          "height": 355
        },
        "outputId": "dcdf1168-b897-4c82-a270-badc4d3fe116"
      },
      "outputs": [
        {
          "output_type": "display_data",
          "data": {
            "text/plain": [
              "<Figure size 1080x360 with 1 Axes>"
            ],
            "image/png": "[encoded data removed]"
          },
          "metadata": {}
        }
      ],
      "source": [
        "mes=recall_list\n",
        "plt.hist(mes,bins=20)\n",
        "plt.title('Recall of all best models')\n",
        "plt.xlabel('Recall') \n",
        "plt.ylabel('Number of models')\n",
        "txtm=\"mean: \" +str(round(np.mean(mes),3))\n",
        "txtstd=\"std: \" +str(round(np.std(mes),3))\n",
        "plt.text(0.2, 43, txtm)\n",
        "plt.text(0.2, 40, txtstd)\n",
        "plt.show()"
      ]
    },
    {
      "cell_type": "code",
      "execution_count": null,
      "metadata": {
        "id": "7YQ9THArfcue",
        "colab": {
          "base_uri": "https://localhost:8080/",
          "height": 355
        },
        "outputId": "1c8fd804-9e7f-419a-8b61-49a0d99d6ef9"
      },
      "outputs": [
        {
          "output_type": "display_data",
          "data": {
            "text/plain": [
              "<Figure size 1080x360 with 1 Axes>"
            ],
            "image/png": "[encoded data removed]"
          },
          "metadata": {}
        }
      ],
      "source": [
        "mes=f1_list\n",
        "plt.hist(mes,bins=20)\n",
        "plt.title('F1 score of all best models')\n",
        "plt.xlabel('F1 score') \n",
        "plt.ylabel('Number of models')\n",
        "txtm=\"mean: \" +str(round(np.mean(mes),3))\n",
        "txtstd=\"std: \" +str(round(np.std(mes),3))\n",
        "plt.text(0.3, 17.5, txtm)\n",
        "plt.text(0.3, 16, txtstd)\n",
        "plt.show()"
      ]
    },
    {
      "cell_type": "code",
      "source": [],
      "metadata": {
        "id": "4quErtCaallD"
      },
      "execution_count": null,
      "outputs": []
    }
  ],
  "metadata": {
    "accelerator": "GPU",
    "colab": {
      "machine_shape": "hm",
      "provenance": []
    },
    "kernelspec": {
      "display_name": "Python 3.9.7 64-bit",
      "language": "python",
      "name": "python3"
    },
    "language_info": {
      "name": "python",
      "version": "3.9.7"
    },
    "vscode": {
      "interpreter": {
        "hash": "acb408c112aa627a318ac6bee697c54a21dc0d988d17c05deacc60f98e48531a"
      }
    }
  },
  "nbformat": 4,
  "nbformat_minor": 0
}