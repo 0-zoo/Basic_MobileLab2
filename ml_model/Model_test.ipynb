{
  "cells": [
    {
      "cell_type": "markdown",
      "metadata": {
        "id": "USaorKo7DP9B"
      },
      "source": [
        "# Base"
      ]
    },
    {
      "cell_type": "code",
      "source": [
        "from google.colab import drive\n",
        "drive.mount('/content/drive')"
      ],
      "metadata": {
        "colab": {
          "base_uri": "https://localhost:8080/"
        },
        "id": "Zu_xNJZBxGtf",
        "outputId": "71bdbb14-8a02-4dfd-e3b9-9d90ab5e5979"
      },
      "execution_count": null,
      "outputs": [
        {
          "output_type": "stream",
          "name": "stdout",
          "text": [
            "Mounted at /content/drive\n"
          ]
        }
      ]
    },
    {
      "cell_type": "code",
      "execution_count": null,
      "metadata": {
        "id": "gr2Cj9rxQ_NT"
      },
      "outputs": [],
      "source": [
        "import os\n",
        "import torch\n",
        "import torch.nn as nn\n",
        "import torch.optim as optim\n",
        "from torch.utils.data import Dataset\n",
        "import matplotlib.pyplot as plt \n",
        "import numpy as np\n",
        "import random\n",
        "import json\n",
        "import seaborn as sns\n",
        "from tqdm import tqdm"
      ]
    },
    {
      "cell_type": "code",
      "execution_count": null,
      "metadata": {
        "id": "6rMYvtMMwbHk"
      },
      "outputs": [],
      "source": [
        "DIR_DATA=\"/content/drive/MyDrive/BasicMobileLab/content/data/Dataset/\" \n",
        "DIR_NET_SAVING=\"/content/drive/MyDrive/BasicMobileLab/content/data/net/\"\n",
        "DIR_DATA_TEST=\"/content/drive/MyDrive/BasicMobileLab/content/data/Testing/\"\n",
        "SUBJECT_USED_FOR_TESTING = \"S17\""
      ]
    },
    {
      "cell_type": "code",
      "execution_count": null,
      "metadata": {
        "colab": {
          "base_uri": "https://localhost:8080/"
        },
        "id": "tD21rCOk06Zx",
        "outputId": "f71315a9-5fb2-4dd9-f748-76ac5cd4e7df"
      },
      "outputs": [
        {
          "output_type": "execute_result",
          "data": {
            "text/plain": [
              "<torch._C.Generator at 0x7f5bb7738490>"
            ]
          },
          "metadata": {},
          "execution_count": 4
        }
      ],
      "source": [
        "manualSeed=1\n",
        "torch.manual_seed(manualSeed)\n",
        "random.seed(manualSeed)\n",
        "np.random.seed(manualSeed)\n",
        "g = torch.Generator()\n",
        "g.manual_seed(manualSeed)"
      ]
    },
    {
      "cell_type": "markdown",
      "metadata": {
        "id": "o4lE6XdnkRCt"
      },
      "source": [
        "# Functions"
      ]
    },
    {
      "cell_type": "code",
      "execution_count": null,
      "metadata": {
        "id": "emSxBk7ikS5m"
      },
      "outputs": [],
      "source": [
        "def suppr(dic):\n",
        "  # 결측치 제거\n",
        "  bornemax=np.quantile(dic[\"features\"],0.99,axis=0)\n",
        "  bornemin=np.quantile(dic[\"features\"],0.01,axis=0)\n",
        "  indicesmauvais=np.where(np.sum(np.add(bornemin>np.array(dic[\"features\"]),np.array(dic[\"features\"])>bornemax),axis=1)>0)[0]\n",
        "  k=0\n",
        "  for i in indicesmauvais:\n",
        "    del dic[\"features\"][i-k]\n",
        "    del dic[\"label\"][i-k]\n",
        "    k+=1\n",
        "  return dic\n",
        "\n",
        "def extract_ds_from_dict(data):\n",
        "  # 딕셔너리로부터 데이터셋 추출\n",
        "  Letat=[]\n",
        "  for i in range(0,4):\n",
        "    dictio={}\n",
        "    features=[data[\"features\"][j] for j in np.where(np.array(data[\"label\"])==i+1)[0]] \n",
        "    label=[data[\"label\"][j] for j in np.where(np.array(data[\"label\"])==i+1)[0]]\n",
        "    dictio[\"features\"]=features\n",
        "    dictio[\"label\"]=label\n",
        "    Letat.append(dictio.copy())\n",
        "  neutr=Letat[0]\n",
        "  stress=Letat[1]\n",
        "  amu=Letat[2]\n",
        "  med=Letat[3]\n",
        "  neutr=suppr(neutr)\n",
        "  stress=suppr(stress)\n",
        "  amu=suppr(amu)\n",
        "  med=suppr(med)\n",
        "  features=[]\n",
        "  label=[]\n",
        "  dict_id={}\n",
        "  for m in range(0,4):\n",
        "    dictio=Letat[m]\n",
        "    features+=[x for x in dictio[\"features\"]] \n",
        "    label+=[x for x in dictio[\"label\"]]\n",
        "  dict_id[\"features\"]=features\n",
        "  dict_id[\"label\"]=label\n",
        "  return dict_id.copy()   # 리스트로 데이터 반환\n",
        "\n",
        "def conf_mat(net,datal,trsh):\n",
        "  \"\"\"\n",
        "  dataloader에 따라 2개의 confusion matrix와 상태 예측을 위한 threshold  계산(임계치 이상의 subject는 스트레스 상태로 판단)\n",
        "  2x2 confusion matrix : Stress and No stress as label for line and column\n",
        "  3x4 confusion matrix : {Total ; Stress ; No stress} as label for the lines\n",
        "                         {Neutral ; Stress ; Amusement; Meditation} as label for the columns\n",
        "  \"\"\"\n",
        "  x=datal[0].float().to(device)\n",
        "  y=net(x).view(-1)\n",
        "  pred=(y>trsh).int()\n",
        "  label=datal[1].float().to(device).view(-1).int()\n",
        "  num=datal[2].float().to(device).int()\n",
        "  comp=torch.eq(label,pred).int()\n",
        "  mat_label=np.zeros((2,4))\n",
        "  mat_nolbl=np.zeros((2,2))\n",
        "  for i in range(0,4):\n",
        "    tens=torch.where(num==i+1,1,0)\n",
        "    numtot=torch.sum(tens).item()\n",
        "    num_G=torch.sum(torch.where(torch.mul(tens,comp)==1,1,0)).item()\n",
        "    if i ==1:\n",
        "      mat_nolbl[0,0]+=num_G\n",
        "      mat_nolbl[1,0]+=numtot-num_G\n",
        "      mat_label[0,i]=num_G\n",
        "      mat_label[1,i]=numtot-num_G\n",
        "    else:\n",
        "      mat_nolbl[1,1]+=num_G\n",
        "      mat_nolbl[0,1]+=numtot-num_G\n",
        "      mat_label[1,i]=num_G\n",
        "      mat_label[0,i]=numtot-num_G\n",
        "  return mat_label,mat_nolbl\n",
        "\n",
        "def fusion_dic(list_dic):\n",
        "  # 리스트로부터 딕셔너리(dataset) 병합 (각 딕셔너리는 subject의 데이터셋을 나타냄)\n",
        "  features=[]\n",
        "  label=[]\n",
        "  dic_f={}\n",
        "  for dic in list_dic:\n",
        "    features+=dic[\"features\"]\n",
        "    label+=dic[\"label\"]\n",
        "  dic_f[\"features\"]=features\n",
        "  dic_f[\"label\"]=label\n",
        "  return dic_f\n",
        "\n",
        "def proportion(dic, indice, prop):\n",
        "  # 균형 잡힌 training을 위해 균형 잡힌 dataset 반환(reduced by the factor prop)\n",
        "  tot=len(indice)\n",
        "  features=[dic[\"features\"][j] for j in indice[::int(np.ceil(tot/prop))]]\n",
        "  label=[dic[\"label\"][j] for j in indice[::int(np.ceil(tot/prop))]]\n",
        "  return features,label\n",
        "\n",
        "def eq_dic(dic):\n",
        "  # dictionnary of a subject에서 균형 잡힌 dataset 반환(same ammount of data for neutral/stress/amusement/relax condition)\n",
        "  indice_neutr=np.where(np.array(dic[\"label\"])==1)[0]\n",
        "  indice_stress=np.where(np.array(dic[\"label\"])==2)[0]\n",
        "  indice_amu=np.where(np.array(dic[\"label\"])==3)[0]\n",
        "  indice_med=np.where(np.array(dic[\"label\"])==4)[0]\n",
        "  nbr_neutr=len(indice_neutr)\n",
        "  nbr_stress=len(indice_stress)\n",
        "  nbr_amu=len(indice_amu)\n",
        "  nbr_med=len(indice_med)\n",
        "  prop=min([3*nbr_neutr,nbr_stress,3*nbr_amu,3*nbr_med])\n",
        "  prop_stress=prop\n",
        "  prop_neutr=int(0.333*prop)\n",
        "  prop_amu=int(0.333*prop)\n",
        "  prop_med=int(0.333*prop)\n",
        "  features=[]\n",
        "  label=[]\n",
        "  dic_f={}\n",
        "  tempf,templ=proportion(dic,indice_neutr,prop_neutr)\n",
        "  features+=tempf\n",
        "  label+=templ\n",
        "  tempf,templ=proportion(dic,indice_stress,prop_stress)\n",
        "  features+=tempf\n",
        "  label+=templ\n",
        "  tempf,templ=proportion(dic,indice_amu,prop_amu)\n",
        "  features+=tempf\n",
        "  label+=templ\n",
        "  tempf,templ=proportion(dic,indice_med,prop_med)\n",
        "  features+=tempf\n",
        "  label+=templ\n",
        "  dic_f[\"features\"]=features\n",
        "  dic_f[\"label\"]=label\n",
        "  return dic_f"
      ]
    },
    {
      "cell_type": "markdown",
      "metadata": {
        "id": "88CdoUVQrpaA"
      },
      "source": [
        "# DS creation kfold"
      ]
    },
    {
      "cell_type": "code",
      "execution_count": null,
      "metadata": {
        "id": "UNrIGSslSwbF"
      },
      "outputs": [],
      "source": [
        "class ds_wesad(Dataset):\n",
        "    \"\"\" \n",
        "    Define the Dataset object for the WESAD (feature vector;is_stressed(0/1);emotionnal_state(0;1;2;3)\n",
        "    0 neutral\n",
        "    1 stress\n",
        "    2 amusement\n",
        "    3 relax\n",
        "    \"\"\"\n",
        "    def __init__(self, dic):\n",
        "        self.samples = []\n",
        "        self.dic=dic\n",
        "        for i in range(0,len(dic[\"label\"])):\n",
        "            num=dic[\"label\"][i]\n",
        "            stress=num==2\n",
        "            x=np.array(dic[\"features\"][i])\n",
        "            self.samples.append((x,int(stress),num))\n",
        "\n",
        "    def __len__(self):\n",
        "        return len(self.samples)\n",
        "\n",
        "    def __getitem__(self, id):\n",
        "        return self.samples[id]"
      ]
    },
    {
      "cell_type": "code",
      "execution_count": null,
      "metadata": {
        "id": "b4IOf8QSykqB"
      },
      "outputs": [],
      "source": [
        "\"\"\"Handles the cross validation process, generates the multiple training and validation data dictionnaries for the cross validation\"\"\"\n",
        "\n",
        "\n",
        "name_list= ['WESADECG_S2.json', 'WESADECG_S3.json', 'WESADECG_S4.json', 'WESADECG_S5.json', 'WESADECG_S6.json', 'WESADECG_S7.json',\n",
        " 'WESADECG_S8.json', 'WESADECG_S9.json', 'WESADECG_S10.json', 'WESADECG_S11.json', 'WESADECG_S13.json', 'WESADECG_S14.json',\n",
        " 'WESADECG_S15.json', 'WESADECG_S16.json']\n",
        "\n",
        "#assert (len(name_list)==14)  ONE Subject for testing S17\n",
        "list_dic_ds=[]\n",
        "cntr=0\n",
        "\n",
        "L=[]\n",
        "for i in range(0,len(name_list)):\n",
        "    f=open(DIR_DATA+name_list[i])\n",
        "    data = json.load(f)\n",
        "    dic=eq_dic(data)\n",
        "    L.append(dic)\n",
        "dic_merge = fusion_dic(L)\n",
        "dic_training=extract_ds_from_dict(dic_merge)\n",
        "ds_training=ds_wesad(dic_training)"
      ]
    },
    {
      "cell_type": "code",
      "execution_count": null,
      "metadata": {
        "id": "pXi9BUzeMZ0I"
      },
      "outputs": [],
      "source": [
        "os.chdir(\"/content/drive/MyDrive/BasicMobileLab/content/data/Testing/\")\n",
        "name= 'WESADECG_{}.json'.format(SUBJECT_USED_FOR_TESTING)\n",
        "f=open(DIR_DATA_TEST+name)\n",
        "data = json.load(f)\n",
        "ds_test = ds_wesad(data)"
      ]
    },
    {
      "cell_type": "markdown",
      "metadata": {
        "id": "VZVLgHmjVhGa"
      },
      "source": [
        "# Model"
      ]
    },
    {
      "cell_type": "code",
      "execution_count": null,
      "metadata": {
        "id": "PN7Ya-GyVgDe"
      },
      "outputs": [],
      "source": [
        "from torch.nn.modules.activation import LeakyReLU\n",
        "\"\"\" DNN Model \"\"\"\n",
        "\n",
        "def init_weight(m):\n",
        "    \"\"\"Initialization of the weights\"\"\"\n",
        "    if isinstance(m,nn.Linear):\n",
        "        nn.init.xavier_uniform_(m.weight)\n",
        "        m.bias.data.fill_(0.01)\n",
        "    if isinstance(m, nn.BatchNorm1d):\n",
        "        m.weight.data.fill_(1)\n",
        "        m.bias.data.zero_() \n",
        "\n",
        "class ClassifierECG(nn.Module):\n",
        "    \"\"\"DNN model, see the model architecture in the report for more details\"\"\"\n",
        "    def __init__(self, ngpu):\n",
        "        super(ClassifierECG, self).__init__()\n",
        "        self.ngpu = ngpu\n",
        "        self.nnECG = nn.Sequential(\n",
        "            nn.Linear(12,128,bias=True),\n",
        "            nn.BatchNorm1d(128),\n",
        "            nn.Dropout(0.5),\n",
        "            nn.LeakyReLU(0.2),\n",
        "            nn.Linear(128,64,bias=True),\n",
        "            nn.BatchNorm1d(64),\n",
        "            nn.Dropout(0.5),\n",
        "            nn.LeakyReLU(0.2),\n",
        "            nn.Linear(64,16,bias=True),\n",
        "            nn.BatchNorm1d(16),\n",
        "            nn.Dropout(0.5),\n",
        "            nn.LeakyReLU(0.2),\n",
        "            nn.Linear(16,4,bias=True),\n",
        "            nn.BatchNorm1d(4),\n",
        "            nn.Dropout(0.5),\n",
        "            nn.LeakyReLU(0.2),\n",
        "            nn.Linear(4,1,bias=True),\n",
        "            nn.Sigmoid()\n",
        "        )\n",
        "        self.nnECG.apply(init_weight)\n",
        "\n",
        "    def forward(self, input):\n",
        "        return self.nnECG(input)"
      ]
    },
    {
      "cell_type": "markdown",
      "metadata": {
        "id": "rJ20BRfxq9ME"
      },
      "source": [
        "# Training"
      ]
    },
    {
      "cell_type": "code",
      "execution_count": null,
      "metadata": {
        "id": "3XLm855B9g_p"
      },
      "outputs": [],
      "source": [
        "def training(net,dataloader_t,dataloader_v,num_epochs,j,k):\n",
        "  Loss = []\n",
        "  Lossv= []\n",
        "  for epoch in range(num_epochs):\n",
        "      L_t=[]\n",
        "      L_v=[]\n",
        "      for i, dataj in enumerate(dataloader_t, 0):\n",
        "          net.zero_grad()\n",
        "          x=dataj[0].float().to(device)\n",
        "          yhat=dataj[1].float().to(device)\n",
        "          yhat=yhat.view(-1,1)\n",
        "          y=net(x)\n",
        "          err_t=nn.BCELoss()(y.float(),yhat.float())\n",
        "          err_t.backward()\n",
        "          optimizer.step()\n",
        "          L_t.append(err_t.item())\n",
        "      for i, dataj in enumerate(dataloader_v, 0):\n",
        "        net.eval()     \n",
        "        x=dataj[0].float().to(device)\n",
        "        yhat=dataj[1].float().to(device)\n",
        "        yhat=yhat.view(-1,1)\n",
        "        y=net(x)\n",
        "        err_v=nn.BCELoss()(y.float(),yhat.float())\n",
        "        L_v.append(err_v.item())\n",
        "      err=np.mean(L_t)\n",
        "      errv=np.mean(L_v)\n",
        "      Loss.append(err)\n",
        "      Lossv.append(errv)\n",
        "      torch.save(net.state_dict(), DIR_NET_SAVING+\"net_\"+str(j)+\"_\"+str(k)+\"_epoch_\"+str(epoch)+\".pth\")\n",
        "  return [Lossv,np.argmin(Lossv)]"
      ]
    },
    {
      "cell_type": "code",
      "execution_count": null,
      "metadata": {
        "id": "p1swnhoPWDsD"
      },
      "outputs": [],
      "source": [
        "def seed_worker(worker_id):\n",
        "    worker_seed = torch.initial_seed() % 2**32\n",
        "    np.random.seed(worker_seed)\n",
        "    random.seed(worker_seed)\n",
        "\n",
        "num_workers = 2\n",
        "batch_size = 32\n",
        "ngpu = 1\n",
        "device = torch.device(\"cuda:0\" if (torch.cuda.is_available() and ngpu > 0) else \"cpu\") "
      ]
    },
    {
      "cell_type": "code",
      "execution_count": null,
      "metadata": {
        "id": "dXTz0x-Hhd-Q"
      },
      "outputs": [],
      "source": [
        "net= ClassifierECG(ngpu).to(\"cuda\")\n",
        "lr=0.0001\n",
        "beta1=0.9\n",
        "optimizer = optim.Adam(net.parameters(), lr=lr, betas=(beta1, 0.999))\n",
        "dataloader_t = torch.utils.data.DataLoader(ds_training,batch_size=batch_size,shuffle=True,num_workers=num_workers,worker_init_fn=seed_worker,generator=g, drop_last=True)\n",
        "dataloader_test = torch.utils.data.DataLoader(ds_test,batch_size=batch_size,shuffle=True,num_workers=num_workers,worker_init_fn=seed_worker,generator=g, drop_last=True)\n",
        "Lossv,argmin=training(net,dataloader_t,dataloader_test,10,0,0)"
      ]
    },
    {
      "cell_type": "markdown",
      "metadata": {
        "id": "Tiqcdv52wbHr"
      },
      "source": [
        "# Results"
      ]
    },
    {
      "cell_type": "code",
      "execution_count": null,
      "metadata": {
        "colab": {
          "base_uri": "https://localhost:8080/",
          "height": 283
        },
        "id": "nTAlh7toA3Pk",
        "outputId": "21934578-4c53-46b6-f18b-6416a77b437e"
      },
      "outputs": [
        {
          "output_type": "execute_result",
          "data": {
            "text/plain": [
              "[<matplotlib.lines.Line2D at 0x7f5b9e720850>]"
            ]
          },
          "metadata": {},
          "execution_count": 13
        },
        {
          "output_type": "display_data",
          "data": {
            "text/plain": [
              "<Figure size 432x288 with 1 Axes>"
            ],
            "image/png": "[encoded data removed]"
          },
          "metadata": {
            "needs_background": "light"
          }
        }
      ],
      "source": [
        "plt.plot(Lossv)"
      ]
    },
    {
      "cell_type": "code",
      "execution_count": null,
      "metadata": {
        "colab": {
          "base_uri": "https://localhost:8080/"
        },
        "id": "OV_v7Rov-QOM",
        "outputId": "1ddc115a-0b6c-4e60-d81b-35d34e53573e"
      },
      "outputs": [
        {
          "output_type": "execute_result",
          "data": {
            "text/plain": [
              "<All keys matched successfully>"
            ]
          },
          "metadata": {},
          "execution_count": 14
        }
      ],
      "source": [
        "net.load_state_dict(torch.load(DIR_NET_SAVING+\"net_0_0_epoch_{}.pth\".format(argmin)))"
      ]
    },
    {
      "cell_type": "code",
      "execution_count": null,
      "metadata": {
        "colab": {
          "base_uri": "https://localhost:8080/",
          "height": 626
        },
        "id": "_u0X9t2yWV_H",
        "outputId": "6ae3d7ea-e22f-4e9d-8dcd-02727c8efed4"
      },
      "outputs": [
        {
          "output_type": "stream",
          "name": "stdout",
          "text": [
            "accuracy 0.9572916666666667\n",
            "precision 0.850546780072904\n",
            "recall 1.0\n",
            "F1score 0.9192383453709783\n"
          ]
        },
        {
          "output_type": "display_data",
          "data": {
            "text/plain": [
              "<Figure size 2376x648 with 4 Axes>"
            ],
            "image/png": "[encoded data removed]"
          },
          "metadata": {}
        }
      ],
      "source": [
        "# Results\n",
        "Loss = []\n",
        "trsh=0.5\n",
        "net.eval()\n",
        "confusionlabel=np.zeros((2,4))\n",
        "confusion=np.zeros((2,2))\n",
        "length_ds=0\n",
        "for i, datal in enumerate(dataloader_test, 0):\n",
        "      confusionlabelt,confusiont=conf_mat(net,datal,trsh)\n",
        "      confusion+=confusiont\n",
        "      confusionlabel+=confusionlabelt\n",
        "      length_ds+=batch_size\n",
        "x_axis_confl = ['neutral','stress','amusement','meditation'] # labels for x-axis\n",
        "y_axis_confl = ['stress','no stress'] # labels for y-axis\n",
        "x_axis_conf = ['stress','no stress']\n",
        "y_axis_conf = ['stress','no stress']\n",
        "\n",
        "# create seabvorn heatmap with required labels\n",
        "confusion_annot=np.array([str(x) for x in np.round(100*confusion/length_ds,3).reshape(-1).tolist()]).reshape(confusion.shape)\n",
        "confusionlabel_annot=np.array([str(x) for x in np.round(100*confusionlabel/length_ds,3).reshape(-1).tolist()]).reshape(confusionlabel.shape)\n",
        "sns.set(rc={\"figure.figsize\":(15, 5)})\n",
        "fig, axs = plt.subplots(ncols=2,figsize=(33,9))\n",
        "sns.heatmap((100*confusion/length_ds), xticklabels=x_axis_conf, yticklabels=y_axis_conf,annot=confusion_annot,ax=axs[0],fmt = '')\n",
        "axs[0].set_xlabel('Ground Truth')\n",
        "axs[0].set_ylabel('Prediction')\n",
        "sns.heatmap((100*confusionlabel/length_ds), xticklabels=x_axis_confl, yticklabels=y_axis_confl, annot=confusionlabel_annot,ax=axs[1],fmt = '')\n",
        "axs[1].set_xlabel('Ground Truth')\n",
        "axs[1].set_ylabel('Prediction')\n",
        "TP=confusion[0,0]\n",
        "TN=confusion[1,1]\n",
        "FN=confusion[1,0]\n",
        "FP=confusion[0,1]\n",
        "acc=(TP+TN)/(TP+FP+FN+TN)\n",
        "precision=TP/(TP+FP)\n",
        "recall=TP/(TP+FN)\n",
        "F1score=(2*recall*precision)/(recall+precision)\n",
        "print(\"accuracy \" +str(acc))\n",
        "print(\"precision \" +str(precision))\n",
        "print(\"recall \" +str(recall))\n",
        "print(\"F1score \"+str(F1score))"
      ]
    },
    {
      "cell_type": "code",
      "source": [],
      "metadata": {
        "id": "vTE0Hl5rtkwC"
      },
      "execution_count": null,
      "outputs": []
    }
  ],
  "metadata": {
    "accelerator": "GPU",
    "colab": {
      "machine_shape": "hm",
      "provenance": []
    },
    "kernelspec": {
      "display_name": "Python 3.9.7 64-bit",
      "language": "python",
      "name": "python3"
    },
    "language_info": {
      "name": "python",
      "version": "3.9.7"
    },
    "vscode": {
      "interpreter": {
        "hash": "acb408c112aa627a318ac6bee697c54a21dc0d988d17c05deacc60f98e48531a"
      }
    },
    "gpuClass": "standard"
  },
  "nbformat": 4,
  "nbformat_minor": 0
}